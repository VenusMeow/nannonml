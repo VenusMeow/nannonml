{
 "cells": [
  {
   "cell_type": "code",
   "execution_count": 2,
   "metadata": {},
   "outputs": [],
   "source": [
    "%load_ext autoreload\n",
    "%autoreload 2"
   ]
  },
  {
   "cell_type": "code",
   "execution_count": 3,
   "metadata": {},
   "outputs": [],
   "source": [
    "from nannon import *"
   ]
  },
  {
   "cell_type": "code",
   "execution_count": 4,
   "metadata": {},
   "outputs": [
    {
     "data": {
      "text/plain": [
       "((0, 1, 2), (0, 1, 2))"
      ]
     },
     "execution_count": 4,
     "metadata": {},
     "output_type": "execute_result"
    }
   ],
   "source": [
    "start_pos"
   ]
  },
  {
   "cell_type": "code",
   "execution_count": 5,
   "metadata": {},
   "outputs": [
    {
     "data": {
      "text/plain": [
       "(7, 7, 7)"
      ]
     },
     "execution_count": 5,
     "metadata": {},
     "output_type": "execute_result"
    }
   ],
   "source": [
    "end_tuple"
   ]
  },
  {
   "cell_type": "code",
   "execution_count": 6,
   "metadata": {},
   "outputs": [
    {
     "data": {
      "text/plain": [
       "5"
      ]
     },
     "execution_count": 6,
     "metadata": {},
     "output_type": "execute_result"
    }
   ],
   "source": [
    "roll()"
   ]
  },
  {
   "cell_type": "code",
   "execution_count": 7,
   "metadata": {},
   "outputs": [
    {
     "data": {
      "text/plain": [
       "2"
      ]
     },
     "execution_count": 7,
     "metadata": {},
     "output_type": "execute_result"
    }
   ],
   "source": [
    "first_roll()"
   ]
  },
  {
   "cell_type": "code",
   "execution_count": 8,
   "metadata": {},
   "outputs": [
    {
     "name": "stdout",
     "output_type": "stream",
     "text": [
      "   oo||o--**-||*  \n",
      "((0, 2, 3), (0, 0, 1))\n",
      "    o||-oo--*||** \n"
     ]
    }
   ],
   "source": [
    "pos = ((0, 0, 1), (0, 2, 3))\n",
    "print_board(pos)\n",
    "swapped = swap_players(pos)\n",
    "print(swapped)\n",
    "print_board(swapped)"
   ]
  },
  {
   "cell_type": "code",
   "execution_count": 9,
   "metadata": {},
   "outputs": [
    {
     "name": "stdout",
     "output_type": "stream",
     "text": [
      "   oo||o--**-||*  \n",
      "0.5\n",
      "     ||-----*||** \n",
      "1.0\n",
      "   oo||o-----||   \n",
      "0.0\n"
     ]
    }
   ],
   "source": [
    "pos = ((0, 0, 1), (0, 2, 3))\n",
    "print_board(pos)\n",
    "print(who_won(pos))\n",
    "\n",
    "pos = ((7, 7, 7), (0, 0, 1))\n",
    "print_board(pos)\n",
    "print(who_won(pos))\n",
    "\n",
    "pos = ((0, 0, 1), (7, 7, 7))\n",
    "print_board(pos)\n",
    "print(who_won(pos))"
   ]
  },
  {
   "cell_type": "code",
   "execution_count": 10,
   "metadata": {},
   "outputs": [
    {
     "name": "stdout",
     "output_type": "stream",
     "text": [
      "   oo||o--**-||*  \n",
      "[0, 2]\n"
     ]
    },
    {
     "data": {
      "text/plain": [
       "[0]"
      ]
     },
     "execution_count": 10,
     "metadata": {},
     "output_type": "execute_result"
    }
   ],
   "source": [
    "pos = ((0, 0, 1), (0, 2, 3))\n",
    "print_board(pos)\n",
    "print(legal_moves(pos, 2))\n",
    "legal_moves(pos, 3)"
   ]
  },
  {
   "cell_type": "code",
   "execution_count": 11,
   "metadata": {},
   "outputs": [
    {
     "name": "stdout",
     "output_type": "stream",
     "text": [
      "     ||ooo***||   \n"
     ]
    },
    {
     "data": {
      "text/plain": [
       "[-1]"
      ]
     },
     "execution_count": 11,
     "metadata": {},
     "output_type": "execute_result"
    }
   ],
   "source": [
    "pos = ((1, 2, 3), (1, 2, 3))\n",
    "print_board(pos)\n",
    "legal_moves(pos, 2)"
   ]
  },
  {
   "cell_type": "code",
   "execution_count": 12,
   "metadata": {},
   "outputs": [
    {
     "name": "stdout",
     "output_type": "stream",
     "text": [
      "start\n",
      "    o||oo--**||*  \n",
      "lm with die 3 [0, 1] \n",
      "\n",
      "m0\n",
      "     ||ooo-**||*  \n",
      "m1\n",
      "    o||-o-o**||*  \n"
     ]
    }
   ],
   "source": [
    "pos = ((0, 1, 2), (0, 1, 2))\n",
    "die = 3\n",
    "print('start')\n",
    "print_board(pos)\n",
    "lm = legal_moves(pos, die)\n",
    "print('lm with die', die, lm, '\\n')\n",
    "\n",
    "m0 = make_move(pos, 0, die)\n",
    "print('m0')\n",
    "print_board(m0)\n",
    "\n",
    "m1 = make_move(pos, 1, die)\n",
    "print('m1')\n",
    "print_board(m1)"
   ]
  },
  {
   "cell_type": "code",
   "execution_count": 13,
   "metadata": {},
   "outputs": [
    {
     "name": "stdout",
     "output_type": "stream",
     "text": [
      "2530\n",
      "{((6, 7, 7), (4, 5, 6)): 0.5, ((0, 4, 7), (5, 6, 7)): 0.5, ((0, 0, 0), (1, 3, 6)): 0.5, ((3, 5, 6), (3, 5, 6)): 0.5, ((2, 7, 7), (0, 0, 2)): 0.5}\n"
     ]
    }
   ],
   "source": [
    "pos_dict = explore()\n",
    "print(len(pos_dict))\n",
    "print(dict(list(pos_dict.items())[:5]))"
   ]
  },
  {
   "cell_type": "code",
   "execution_count": 14,
   "metadata": {},
   "outputs": [
    {
     "data": {
      "text/plain": [
       "<function nannon.players.rand_play(pos, roll)>"
      ]
     },
     "execution_count": 14,
     "metadata": {},
     "output_type": "execute_result"
    }
   ],
   "source": [
    "rand_play"
   ]
  },
  {
   "cell_type": "code",
   "execution_count": 15,
   "metadata": {},
   "outputs": [
    {
     "name": "stdout",
     "output_type": "stream",
     "text": [
      "    o||oo--**||*  \n",
      "((0, 2, 3), (0, 1, 2))\n",
      "    o||-oo-**||*  \n"
     ]
    }
   ],
   "source": [
    "die = 2\n",
    "print_board(start_pos)\n",
    "npos = rand_play(start_pos, die)\n",
    "print(npos)\n",
    "print_board(npos)"
   ]
  },
  {
   "cell_type": "code",
   "execution_count": 16,
   "metadata": {},
   "outputs": [
    {
     "data": {
      "text/plain": [
       "<function nannon.players.first_play(pos, roll)>"
      ]
     },
     "execution_count": 16,
     "metadata": {},
     "output_type": "execute_result"
    }
   ],
   "source": [
    "first_play"
   ]
  },
  {
   "cell_type": "code",
   "execution_count": 17,
   "metadata": {},
   "outputs": [
    {
     "name": "stdout",
     "output_type": "stream",
     "text": [
      "    o||oo--**||*  \n",
      "((0, 1, 4), (0, 1, 2))\n",
      "    o||o--o**||*  \n"
     ]
    }
   ],
   "source": [
    "die = 2\n",
    "print_board(start_pos)\n",
    "npos = first_play(start_pos, die)\n",
    "print(npos)\n",
    "print_board(npos)"
   ]
  },
  {
   "cell_type": "code",
   "execution_count": 18,
   "metadata": {},
   "outputs": [
    {
     "data": {
      "text/plain": [
       "'second'"
      ]
     },
     "execution_count": 18,
     "metadata": {},
     "output_type": "execute_result"
    }
   ],
   "source": [
    "play_game(rand_play, first_play)"
   ]
  },
  {
   "cell_type": "code",
   "execution_count": 19,
   "metadata": {},
   "outputs": [
    {
     "data": {
      "text/plain": [
       "0.5385"
      ]
     },
     "execution_count": 19,
     "metadata": {},
     "output_type": "execute_result"
    }
   ],
   "source": [
    "play_tourn(rand_play, first_play)"
   ]
  },
  {
   "cell_type": "code",
   "execution_count": 10,
   "metadata": {},
   "outputs": [
    {
     "data": {
      "text/plain": [
       "array([[0, 1, 0, 0],\n",
       "       [0, 0, 0, 0],\n",
       "       [1, 1, 0, 0],\n",
       "       [1, 1, 1, 0]])"
      ]
     },
     "execution_count": 10,
     "metadata": {},
     "output_type": "execute_result"
    }
   ],
   "source": [
    "players = [rand_play, first_play, last_play, score_play]\n",
    "round_robin(players)"
   ]
  },
  {
   "cell_type": "code",
   "execution_count": 6,
   "metadata": {},
   "outputs": [
    {
     "name": "stdout",
     "output_type": "stream",
     "text": [
      "{((6, 7, 7), (4, 5, 6)): 0.8997958746345984, ((0, 5, 7), (0, 3, 6)): 1, ((0, 0, 0), (1, 3, 6)): 0.045056261598164504, ((3, 5, 6), (3, 5, 6)): 0.910293510204576, ((2, 7, 7), (0, 0, 2)): 0.9349640631329681}\n"
     ]
    }
   ],
   "source": [
    "import pickle\n",
    "mediocre_table = pickle.load(open('nannon/mediocre_table.p', 'rb'))\n",
    "print(dict(list(mediocre_table.items())[:5]))\n"
   ]
  },
  {
   "cell_type": "code",
   "execution_count": 22,
   "metadata": {},
   "outputs": [
    {
     "name": "stdout",
     "output_type": "stream",
     "text": [
      "Before: [[0.60018041 0.60921318 0.74879427 0.72999071]]\n",
      "After [[0.02426062 0.98082423 0.97728005 0.01916943]]\n"
     ]
    }
   ],
   "source": [
    "input_nodes = 2\n",
    "hidden_nodes = 6\n",
    "output_nodes = 1\n",
    "learning_rate = 0.3\n",
    "\n",
    "# Creates an instance of the scratch neural network.\n",
    "# Here we teach it how to produce correct \"XOR\" output.\n",
    "n = ScratchNetwork(input_nodes, hidden_nodes, output_nodes, learning_rate)\n",
    "X = [[0,0],\n",
    "     [0,1],\n",
    "     [1,0],\n",
    "     [1,1]]\n",
    "y = [[0],\n",
    "     [1],\n",
    "     [1],\n",
    "     [0]]\n",
    "\n",
    "print('Before:', n.query(X))\n",
    "for _ in range(5000):\n",
    "    n.train(X, y)\n",
    "print('After', n.query(X))"
   ]
  },
  {
   "cell_type": "code",
   "execution_count": null,
   "metadata": {},
   "outputs": [],
   "source": []
  }
 ],
 "metadata": {
  "kernelspec": {
   "display_name": "Python 3",
   "language": "python",
   "name": "python3"
  },
  "language_info": {
   "codemirror_mode": {
    "name": "ipython",
    "version": 3
   },
   "file_extension": ".py",
   "mimetype": "text/x-python",
   "name": "python",
   "nbconvert_exporter": "python",
   "pygments_lexer": "ipython3",
   "version": "3.7.3"
  }
 },
 "nbformat": 4,
 "nbformat_minor": 2
}
